{
 "cells": [
  {
   "cell_type": "markdown",
   "metadata": {},
   "source": [
    "- Symbolic Transformation with gplearn library.\n",
    "    Parameters found at https://gplearn.readthedocs.io/en/stable/examples.html"
   ]
  },
  {
   "cell_type": "markdown",
   "metadata": {},
   "source": [
    "### Libraries"
   ]
  },
  {
   "cell_type": "code",
   "execution_count": 2,
   "metadata": {
    "ExecuteTime": {
     "end_time": "2021-06-21T22:16:21.143070Z",
     "start_time": "2021-06-21T22:16:21.132073Z"
    }
   },
   "outputs": [],
   "source": [
    "from sklearn.model_selection import train_test_split\n",
    "from sklearn.preprocessing import StandardScaler\n",
    "from sklearn.datasets import fetch_california_housing\n",
    "\n",
    "import pandas as pd\n",
    "import numpy as np\n",
    "from pathlib import Path"
   ]
  },
  {
   "cell_type": "code",
   "execution_count": 3,
   "metadata": {},
   "outputs": [],
   "source": [
    "from gplearn.genetic import SymbolicTransformer\n",
    "from gplearn.fitness import make_fitness"
   ]
  },
  {
   "cell_type": "markdown",
   "metadata": {},
   "source": [
    "### Load"
   ]
  },
  {
   "cell_type": "code",
   "execution_count": 4,
   "metadata": {
    "ExecuteTime": {
     "end_time": "2021-06-21T22:16:21.674070Z",
     "start_time": "2021-06-21T22:16:21.608070Z"
    }
   },
   "outputs": [
    {
     "data": {
      "text/html": [
       "<div>\n",
       "<style scoped>\n",
       "    .dataframe tbody tr th:only-of-type {\n",
       "        vertical-align: middle;\n",
       "    }\n",
       "\n",
       "    .dataframe tbody tr th {\n",
       "        vertical-align: top;\n",
       "    }\n",
       "\n",
       "    .dataframe thead th {\n",
       "        text-align: right;\n",
       "    }\n",
       "</style>\n",
       "<table border=\"1\" class=\"dataframe\">\n",
       "  <thead>\n",
       "    <tr style=\"text-align: right;\">\n",
       "      <th></th>\n",
       "      <th>MedInc</th>\n",
       "      <th>HouseAge</th>\n",
       "      <th>AveRooms</th>\n",
       "      <th>AveBedrms</th>\n",
       "      <th>Population</th>\n",
       "      <th>AveOccup</th>\n",
       "      <th>Latitude</th>\n",
       "      <th>Longitude</th>\n",
       "    </tr>\n",
       "  </thead>\n",
       "  <tbody>\n",
       "    <tr>\n",
       "      <th>0</th>\n",
       "      <td>8.3252</td>\n",
       "      <td>41.0</td>\n",
       "      <td>6.984127</td>\n",
       "      <td>1.023810</td>\n",
       "      <td>322.0</td>\n",
       "      <td>2.555556</td>\n",
       "      <td>37.88</td>\n",
       "      <td>-122.23</td>\n",
       "    </tr>\n",
       "    <tr>\n",
       "      <th>1</th>\n",
       "      <td>8.3014</td>\n",
       "      <td>21.0</td>\n",
       "      <td>6.238137</td>\n",
       "      <td>0.971880</td>\n",
       "      <td>2401.0</td>\n",
       "      <td>2.109842</td>\n",
       "      <td>37.86</td>\n",
       "      <td>-122.22</td>\n",
       "    </tr>\n",
       "    <tr>\n",
       "      <th>2</th>\n",
       "      <td>7.2574</td>\n",
       "      <td>52.0</td>\n",
       "      <td>8.288136</td>\n",
       "      <td>1.073446</td>\n",
       "      <td>496.0</td>\n",
       "      <td>2.802260</td>\n",
       "      <td>37.85</td>\n",
       "      <td>-122.24</td>\n",
       "    </tr>\n",
       "    <tr>\n",
       "      <th>3</th>\n",
       "      <td>5.6431</td>\n",
       "      <td>52.0</td>\n",
       "      <td>5.817352</td>\n",
       "      <td>1.073059</td>\n",
       "      <td>558.0</td>\n",
       "      <td>2.547945</td>\n",
       "      <td>37.85</td>\n",
       "      <td>-122.25</td>\n",
       "    </tr>\n",
       "    <tr>\n",
       "      <th>4</th>\n",
       "      <td>3.8462</td>\n",
       "      <td>52.0</td>\n",
       "      <td>6.281853</td>\n",
       "      <td>1.081081</td>\n",
       "      <td>565.0</td>\n",
       "      <td>2.181467</td>\n",
       "      <td>37.85</td>\n",
       "      <td>-122.25</td>\n",
       "    </tr>\n",
       "  </tbody>\n",
       "</table>\n",
       "</div>"
      ],
      "text/plain": [
       "   MedInc  HouseAge  AveRooms  AveBedrms  Population  AveOccup  Latitude  \\\n",
       "0  8.3252      41.0  6.984127   1.023810       322.0  2.555556     37.88   \n",
       "1  8.3014      21.0  6.238137   0.971880      2401.0  2.109842     37.86   \n",
       "2  7.2574      52.0  8.288136   1.073446       496.0  2.802260     37.85   \n",
       "3  5.6431      52.0  5.817352   1.073059       558.0  2.547945     37.85   \n",
       "4  3.8462      52.0  6.281853   1.081081       565.0  2.181467     37.85   \n",
       "\n",
       "   Longitude  \n",
       "0    -122.23  \n",
       "1    -122.22  \n",
       "2    -122.24  \n",
       "3    -122.25  \n",
       "4    -122.25  "
      ]
     },
     "execution_count": 4,
     "metadata": {},
     "output_type": "execute_result"
    }
   ],
   "source": [
    "# load california housing dataset\n",
    "housing = fetch_california_housing()\n",
    "\n",
    "# Creating a dataframe with the data\n",
    "data = pd.DataFrame(housing.data, columns=housing.feature_names)\n",
    "data.head()"
   ]
  },
  {
   "cell_type": "code",
   "execution_count": 5,
   "metadata": {
    "ExecuteTime": {
     "end_time": "2021-06-21T22:16:21.830077Z",
     "start_time": "2021-06-21T22:16:21.824070Z"
    }
   },
   "outputs": [],
   "source": [
    "# Adding target variable to dataframe\n",
    "data['median_house_value'] = housing.target"
   ]
  },
  {
   "cell_type": "code",
   "execution_count": 6,
   "metadata": {
    "ExecuteTime": {
     "end_time": "2021-06-21T22:16:26.296258Z",
     "start_time": "2021-06-21T22:16:26.288262Z"
    }
   },
   "outputs": [],
   "source": [
    "# Splittingh dependent and independent variables\n",
    "X = data.drop('median_house_value', axis=1)\n",
    "y = data['median_house_value']"
   ]
  },
  {
   "cell_type": "code",
   "execution_count": 7,
   "metadata": {
    "ExecuteTime": {
     "end_time": "2021-06-21T22:16:26.703390Z",
     "start_time": "2021-06-21T22:16:26.682391Z"
    }
   },
   "outputs": [],
   "source": [
    "# Splitting to training and testing data\n",
    "X_train, X_test, y_train, y_test = train_test_split(X, y, test_size = 0.3, random_state = 4)"
   ]
  },
  {
   "cell_type": "code",
   "execution_count": 8,
   "metadata": {
    "ExecuteTime": {
     "end_time": "2021-06-21T22:16:27.401618Z",
     "start_time": "2021-06-21T22:16:27.385600Z"
    }
   },
   "outputs": [],
   "source": [
    "# Standarize\n",
    "sc = StandardScaler()\n",
    "X_train = sc.fit_transform(X_train)\n",
    "X_test = sc.transform(X_test)"
   ]
  },
  {
   "cell_type": "markdown",
   "metadata": {},
   "source": [
    "### Metric Function"
   ]
  },
  {
   "cell_type": "code",
   "execution_count": 9,
   "metadata": {
    "ExecuteTime": {
     "end_time": "2021-06-21T22:16:28.510256Z",
     "start_time": "2021-06-21T22:16:28.489222Z"
    }
   },
   "outputs": [],
   "source": [
    "# custom metric\n",
    "def _mape(y, y_pred, w):\n",
    "    diffs = np.abs(np.divide((np.maximum(0.001, y) - np.maximum(0.001, y_pred)),np.maximum(0.001, y)))\n",
    "    \n",
    "    return 100. * np.average(diffs, weights=w)\n",
    "\n",
    "mape = make_fitness(_mape, greater_is_better=False)"
   ]
  },
  {
   "cell_type": "markdown",
   "metadata": {},
   "source": [
    "### Model"
   ]
  },
  {
   "cell_type": "code",
   "execution_count": 24,
   "metadata": {
    "ExecuteTime": {
     "end_time": "2021-06-21T22:26:07.707978Z",
     "start_time": "2021-06-21T22:26:07.688982Z"
    }
   },
   "outputs": [],
   "source": [
    "function_set = ['add', 'sub', 'mul', 'div',\n",
    "                'sqrt', 'log', 'abs', 'neg', 'inv',\n",
    "                'max', 'min']\n",
    "model = SymbolicTransformer(generations=20, population_size=2000,\n",
    "                         hall_of_fame=100, n_components=10,\n",
    "                         function_set=function_set, metric = mape,\n",
    "                         parsimony_coefficient=0.0005,\n",
    "                         max_samples=0.9, verbose=1,\n",
    "                         random_state=0, n_jobs=3)"
   ]
  },
  {
   "cell_type": "code",
   "execution_count": 25,
   "metadata": {
    "ExecuteTime": {
     "end_time": "2021-06-21T22:29:24.410452Z",
     "start_time": "2021-06-21T22:26:07.961942Z"
    }
   },
   "outputs": [
    {
     "name": "stdout",
     "output_type": "stream",
     "text": [
      "    |   Population Average    |             Best Individual              |\n",
      "---- ------------------------- ------------------------------------------ ----------\n",
      " Gen   Length          Fitness   Length          Fitness      OOB Fitness  Time Left\n"
     ]
    },
    {
     "name": "stdout",
     "output_type": "stream",
     "text": [
      "   0    11.88          1900.39        5          44.0957          43.3009      2.64m\n",
      "   1     6.52          75.9258       16          43.7218          44.0279      1.35m\n",
      "   2     5.89          69.4985       11          36.0978          37.1984      1.39m\n",
      "   3     7.31          71.4146       14          35.8433          35.9279      1.42m\n",
      "   4    11.37          66.5714        9          32.1465          31.6921      1.66m\n",
      "   5    14.59          51.8998        9          32.0587          32.4825      1.53m\n",
      "   6    16.30          43.5922       19          31.4732          31.8147      1.09m\n",
      "   7    18.08          45.3769       22          31.3241           30.695     58.40s\n",
      "   8    18.37           45.723       31          30.5719          30.9186     53.80s\n",
      "   9    20.90          47.1222       21           30.144          29.9362      1.05m\n",
      "  10    25.80          42.4549       21          30.0939          30.3871     52.26s\n",
      "  11    29.95          40.3256       24          29.7009          29.7791     49.86s\n",
      "  12    34.90           40.391       59          29.5204          29.9889     47.98s\n",
      "  13    41.18          41.7567       68          28.8521          30.3985     46.62s\n",
      "  14    49.92          39.3005       89          29.0303          29.5408     43.60s\n",
      "  15    58.07          37.7984       80          28.8467          28.9301     39.30s\n",
      "  16    65.96          37.0098       70          28.5151          28.3694     34.26s\n",
      "  17    80.47          34.0438       74          28.4084          27.2465     27.43s\n",
      "  18    88.80          33.8469       74          28.0428          30.5365     14.73s\n",
      "  19    95.14          33.6069      115          28.0779          28.4588      0.00s\n"
     ]
    },
    {
     "data": {
      "text/html": [
       "<style>#sk-container-id-5 {color: black;}#sk-container-id-5 pre{padding: 0;}#sk-container-id-5 div.sk-toggleable {background-color: white;}#sk-container-id-5 label.sk-toggleable__label {cursor: pointer;display: block;width: 100%;margin-bottom: 0;padding: 0.3em;box-sizing: border-box;text-align: center;}#sk-container-id-5 label.sk-toggleable__label-arrow:before {content: \"▸\";float: left;margin-right: 0.25em;color: #696969;}#sk-container-id-5 label.sk-toggleable__label-arrow:hover:before {color: black;}#sk-container-id-5 div.sk-estimator:hover label.sk-toggleable__label-arrow:before {color: black;}#sk-container-id-5 div.sk-toggleable__content {max-height: 0;max-width: 0;overflow: hidden;text-align: left;background-color: #f0f8ff;}#sk-container-id-5 div.sk-toggleable__content pre {margin: 0.2em;color: black;border-radius: 0.25em;background-color: #f0f8ff;}#sk-container-id-5 input.sk-toggleable__control:checked~div.sk-toggleable__content {max-height: 200px;max-width: 100%;overflow: auto;}#sk-container-id-5 input.sk-toggleable__control:checked~label.sk-toggleable__label-arrow:before {content: \"▾\";}#sk-container-id-5 div.sk-estimator input.sk-toggleable__control:checked~label.sk-toggleable__label {background-color: #d4ebff;}#sk-container-id-5 div.sk-label input.sk-toggleable__control:checked~label.sk-toggleable__label {background-color: #d4ebff;}#sk-container-id-5 input.sk-hidden--visually {border: 0;clip: rect(1px 1px 1px 1px);clip: rect(1px, 1px, 1px, 1px);height: 1px;margin: -1px;overflow: hidden;padding: 0;position: absolute;width: 1px;}#sk-container-id-5 div.sk-estimator {font-family: monospace;background-color: #f0f8ff;border: 1px dotted black;border-radius: 0.25em;box-sizing: border-box;margin-bottom: 0.5em;}#sk-container-id-5 div.sk-estimator:hover {background-color: #d4ebff;}#sk-container-id-5 div.sk-parallel-item::after {content: \"\";width: 100%;border-bottom: 1px solid gray;flex-grow: 1;}#sk-container-id-5 div.sk-label:hover label.sk-toggleable__label {background-color: #d4ebff;}#sk-container-id-5 div.sk-serial::before {content: \"\";position: absolute;border-left: 1px solid gray;box-sizing: border-box;top: 0;bottom: 0;left: 50%;z-index: 0;}#sk-container-id-5 div.sk-serial {display: flex;flex-direction: column;align-items: center;background-color: white;padding-right: 0.2em;padding-left: 0.2em;position: relative;}#sk-container-id-5 div.sk-item {position: relative;z-index: 1;}#sk-container-id-5 div.sk-parallel {display: flex;align-items: stretch;justify-content: center;background-color: white;position: relative;}#sk-container-id-5 div.sk-item::before, #sk-container-id-5 div.sk-parallel-item::before {content: \"\";position: absolute;border-left: 1px solid gray;box-sizing: border-box;top: 0;bottom: 0;left: 50%;z-index: -1;}#sk-container-id-5 div.sk-parallel-item {display: flex;flex-direction: column;z-index: 1;position: relative;background-color: white;}#sk-container-id-5 div.sk-parallel-item:first-child::after {align-self: flex-end;width: 50%;}#sk-container-id-5 div.sk-parallel-item:last-child::after {align-self: flex-start;width: 50%;}#sk-container-id-5 div.sk-parallel-item:only-child::after {width: 0;}#sk-container-id-5 div.sk-dashed-wrapped {border: 1px dashed gray;margin: 0 0.4em 0.5em 0.4em;box-sizing: border-box;padding-bottom: 0.4em;background-color: white;}#sk-container-id-5 div.sk-label label {font-family: monospace;font-weight: bold;display: inline-block;line-height: 1.2em;}#sk-container-id-5 div.sk-label-container {text-align: center;}#sk-container-id-5 div.sk-container {/* jupyter's `normalize.less` sets `[hidden] { display: none; }` but bootstrap.min.css set `[hidden] { display: none !important; }` so we also need the `!important` here to be able to override the default hidden behavior on the sphinx rendered scikit-learn.org. See: https://github.com/scikit-learn/scikit-learn/issues/21755 */display: inline-block !important;position: relative;}#sk-container-id-5 div.sk-text-repr-fallback {display: none;}</style><div id=\"sk-container-id-5\" class=\"sk-top-container\"><div class=\"sk-text-repr-fallback\"><pre>[max(sqrt(add(add(0.604, X0), max(sqrt(max(abs(sqrt(log(div(div(inv(-0.896), log(max(X5, X6))), sqrt(inv(sqrt(max(abs(sqrt(log(div(div(inv(-0.896), log(max(X5, X6))), sqrt(inv(add(0.916, abs(add(0.604, X0))))))))), X0)))))))), X0)), X0))), sqrt(add(add(0.604, X0), max(sqrt(sqrt(inv(add(0.916, X6)))), add(add(0.604, X0), add(add(add(max(0.396, X1), X0), add(log(0.211), abs(sqrt(log(div(div(inv(-0.896), log(max(X5, X6))), sqrt(inv(add(0.916, X6))))))))), add(add(add(max(0.396, X1), X0), add(log(0.211), abs(sqrt(log(div(div(inv(-0.896), inv(add(0.916, X6))), sqrt(inv(add(0.916, X6))))))))), X0))))))),\n",
       " max(sqrt(add(add(0.604, X0), sqrt(max(abs(sqrt(log(div(div(inv(-0.896), log(max(X5, X6))), sqrt(inv(log(div(div(add(0.604, X0), log(max(X5, X6))), sqrt(add(0.604, X0)))))))))), X0)))), sqrt(add(add(0.604, X0), max(sqrt(sqrt(inv(add(0.916, X6)))), add(add(max(0.396, X1), X0), add(add(0.604, X0), add(add(max(0.396, X1), X0), add(log(0.211), abs(abs(sqrt(log(div(div(inv(-0.896), log(max(X5, X6))), sqrt(inv(add(0.916, X6)))))))))))))))),\n",
       " max(sqrt(add(add(0.604, X0), sqrt(max(abs(sqrt(log(log(max(X5, X6))))), X0)))), sqrt(add(add(0.604, X0), max(sqrt(sqrt(inv(add(0.916, X6)))), add(add(add(max(0.396, X1), X0), add(log(0.211), abs(sqrt(log(div(div(inv(log(max(X5, X6))), log(max(X5, X6))), sqrt(inv(add(0.916, X6))))))))), add(add(0.604, X0), add(0.604, X0))))))),\n",
       " max(sqrt(add(add(0.604, X0), sqrt(max(abs(sqrt(log(div(div(inv(-0.896), log(max(X5, X6))), sqrt(inv(log(div(div(add(0.604, X0), log(max(X5, X6))), add(add(0.604, X0), max(sqrt(sqrt(inv(add(0.916, X6)))), add(add(0.604, X0), add(add(0.604, X0), sqrt(add(add(0.604, X0), abs(-0.182))))))))))))))), X0)))), sqrt(add(add(0.604, X0), max(sqrt(sqrt(inv(add(0.916, X6)))), add(add(0.604, X0), add(add(add(add(max(0.396, X1), X0), X0), add(log(0.211), abs(sqrt(log(div(div(inv(-0.896), log(max(X5, X6))), sqrt(add(add(add(max(0.396, X1), X0), add(log(0.211), abs(sqrt(log(div(div(inv(-0.896), log(max(X5, X6))), sqrt(inv(add(add(log(0.211), abs(log(0.211))), X6))))))))), add(max(0.396, X1), X0))))))))), sqrt(add(add(0.604, X0), add(log(0.211), abs(log(0.211))))))))))),\n",
       " max(sqrt(add(add(0.604, X0), max(sqrt(max(abs(sqrt(log(div(div(inv(-0.896), log(max(X5, X6))), sqrt(inv(add(0.916, X6))))))), X0)), X0))), sqrt(add(add(0.604, X0), max(sqrt(sqrt(inv(add(0.916, X6)))), add(add(0.604, X0), add(add(add(max(0.396, X1), X0), add(log(0.211), abs(sqrt(log(div(div(div(div(inv(-0.896), log(max(X5, X6))), sqrt(inv(abs(log(0.211))))), log(max(X5, X6))), sqrt(inv(add(0.916, X6))))))))), add(max(0.396, X1), X0))))))),\n",
       " max(sqrt(add(add(0.604, X0), sqrt(max(abs(sqrt(log(div(div(inv(-0.896), log(max(X5, X6))), sqrt(add(add(0.604, X0), add(add(add(max(0.396, X1), X0), add(log(0.211), abs(sqrt(log(div(div(inv(-0.896), log(max(X5, X6))), sqrt(inv(add(0.916, X6))))))))), sqrt(add(add(0.604, X0), add(log(0.211), abs(log(0.211)))))))))))), X0)))), sqrt(add(add(0.604, X0), max(sqrt(sqrt(inv(add(0.916, X6)))), add(add(add(max(0.396, X1), X0), add(log(0.211), abs(sqrt(log(div(div(add(add(0.604, X0), add(log(0.211), abs(div(inv(-0.896), log(sqrt(inv(add(0.916, X6)))))))), log(max(X5, X6))), sqrt(inv(add(0.916, X6))))))))), add(add(0.604, X0), add(0.604, X0))))))),\n",
       " max(sqrt(add(add(0.604, X0), sqrt(max(abs(sqrt(log(div(div(inv(-0.896), log(max(X5, X6))), sqrt(inv(add(0.916, X6))))))), X0)))), sqrt(add(add(0.604, X0), max(sqrt(sqrt(inv(add(0.916, X6)))), add(add(add(max(0.396, X1), X0), add(log(0.211), add(add(add(max(0.396, X1), X0), add(log(0.211), abs(max(0.396, X1)))), sqrt(add(add(0.604, X0), add(log(0.211), abs(log(0.211)))))))), add(add(0.604, X0), add(0.604, X0))))))),\n",
       " max(sqrt(add(add(0.604, X0), max(sqrt(max(abs(sqrt(log(div(div(inv(-0.896), log(max(X5, X6))), sqrt(inv(add(0.916, abs(add(0.916, X6))))))))), X0)), X0))), sqrt(add(add(0.604, X0), max(sqrt(sqrt(inv(add(0.916, X6)))), add(add(0.604, X0), add(add(add(max(0.396, X1), X0), add(log(0.211), abs(sqrt(log(div(div(inv(-0.896), log(max(X5, X6))), sqrt(inv(add(0.916, X6))))))))), sqrt(add(add(0.604, X0), add(log(0.211), max(sqrt(add(add(0.604, X0), max(abs(sqrt(log(div(div(inv(-0.896), log(max(X5, X6))), sqrt(inv(sqrt(add(add(0.604, X0), add(max(sqrt(sqrt(inv(add(0.916, X6)))), add(add(0.604, X0), add(add(add(max(0.396, X1), X0), add(log(0.211), abs(sqrt(log(div(div(inv(-0.896), log(max(X5, X6))), sqrt(inv(add(0.916, X6))))))))), sqrt(sqrt(add(add(0.604, X0), add(0.604, X0))))))), abs(inv(sqrt(-0.774)))))))))))), X0))), sqrt(add(add(0.604, X0), max(sqrt(sqrt(inv(add(0.916, X6)))), add(add(0.604, X0), add(inv(add(0.916, X6)), add(0.604, X0)))))))))))))))),\n",
       " max(sqrt(add(add(0.604, X0), max(sqrt(max(abs(sqrt(log(div(div(inv(-0.896), log(max(X5, X6))), sqrt(add(add(0.604, X0), max(sqrt(sqrt(inv(add(0.916, X6)))), add(add(0.604, X0), add(add(add(max(0.396, X1), X0), add(log(0.211), abs(sqrt(log(div(div(inv(-0.896), log(max(X5, X6))), add(add(0.604, X0), abs(inv(sqrt(sqrt(add(0.916, X6)))))))))))), sqrt(add(add(0.604, X0), add(log(0.211), abs(log(0.211)))))))))))))), X0)), X0))), sqrt(add(add(0.604, X0), max(sqrt(sqrt(inv(add(0.916, X6)))), add(add(0.604, X0), add(add(add(max(0.396, X1), X0), add(log(0.211), abs(sqrt(log(div(div(add(0.916, X6), log(max(X5, X6))), sqrt(inv(add(0.916, X6))))))))), sqrt(add(add(0.604, X0), add(log(0.211), abs(log(0.211))))))))))),\n",
       " max(sqrt(add(add(0.604, X0), max(max(abs(sqrt(log(log(max(X5, X6))))), X0), X0))), sqrt(add(add(0.604, X0), max(sqrt(sqrt(inv(add(0.916, X6)))), add(add(0.604, X0), add(add(add(max(0.396, X1), X0), add(log(0.211), abs(sqrt(log(div(div(inv(-0.896), log(max(X5, X6))), sqrt(inv(add(0.916, X6))))))))), add(add(max(0.396, X1), X0), add(log(0.211), abs(sqrt(log(div(div(sqrt(sqrt(inv(add(0.916, X6)))), log(max(X5, X6))), sqrt(inv(add(0.916, X6)))))))))))))))]</pre><b>In a Jupyter environment, please rerun this cell to show the HTML representation or trust the notebook. <br />On GitHub, the HTML representation is unable to render, please try loading this page with nbviewer.org.</b></div><div class=\"sk-container\" hidden><div class=\"sk-item\"><div class=\"sk-estimator sk-toggleable\"><input class=\"sk-toggleable__control sk-hidden--visually\" id=\"sk-estimator-id-5\" type=\"checkbox\" checked><label for=\"sk-estimator-id-5\" class=\"sk-toggleable__label sk-toggleable__label-arrow\">SymbolicTransformer</label><div class=\"sk-toggleable__content\"><pre>[max(sqrt(add(add(0.604, X0), max(sqrt(max(abs(sqrt(log(div(div(inv(-0.896), log(max(X5, X6))), sqrt(inv(sqrt(max(abs(sqrt(log(div(div(inv(-0.896), log(max(X5, X6))), sqrt(inv(add(0.916, abs(add(0.604, X0))))))))), X0)))))))), X0)), X0))), sqrt(add(add(0.604, X0), max(sqrt(sqrt(inv(add(0.916, X6)))), add(add(0.604, X0), add(add(add(max(0.396, X1), X0), add(log(0.211), abs(sqrt(log(div(div(inv(-0.896), log(max(X5, X6))), sqrt(inv(add(0.916, X6))))))))), add(add(add(max(0.396, X1), X0), add(log(0.211), abs(sqrt(log(div(div(inv(-0.896), inv(add(0.916, X6))), sqrt(inv(add(0.916, X6))))))))), X0))))))),\n",
       " max(sqrt(add(add(0.604, X0), sqrt(max(abs(sqrt(log(div(div(inv(-0.896), log(max(X5, X6))), sqrt(inv(log(div(div(add(0.604, X0), log(max(X5, X6))), sqrt(add(0.604, X0)))))))))), X0)))), sqrt(add(add(0.604, X0), max(sqrt(sqrt(inv(add(0.916, X6)))), add(add(max(0.396, X1), X0), add(add(0.604, X0), add(add(max(0.396, X1), X0), add(log(0.211), abs(abs(sqrt(log(div(div(inv(-0.896), log(max(X5, X6))), sqrt(inv(add(0.916, X6)))))))))))))))),\n",
       " max(sqrt(add(add(0.604, X0), sqrt(max(abs(sqrt(log(log(max(X5, X6))))), X0)))), sqrt(add(add(0.604, X0), max(sqrt(sqrt(inv(add(0.916, X6)))), add(add(add(max(0.396, X1), X0), add(log(0.211), abs(sqrt(log(div(div(inv(log(max(X5, X6))), log(max(X5, X6))), sqrt(inv(add(0.916, X6))))))))), add(add(0.604, X0), add(0.604, X0))))))),\n",
       " max(sqrt(add(add(0.604, X0), sqrt(max(abs(sqrt(log(div(div(inv(-0.896), log(max(X5, X6))), sqrt(inv(log(div(div(add(0.604, X0), log(max(X5, X6))), add(add(0.604, X0), max(sqrt(sqrt(inv(add(0.916, X6)))), add(add(0.604, X0), add(add(0.604, X0), sqrt(add(add(0.604, X0), abs(-0.182))))))))))))))), X0)))), sqrt(add(add(0.604, X0), max(sqrt(sqrt(inv(add(0.916, X6)))), add(add(0.604, X0), add(add(add(add(max(0.396, X1), X0), X0), add(log(0.211), abs(sqrt(log(div(div(inv(-0.896), log(max(X5, X6))), sqrt(add(add(add(max(0.396, X1), X0), add(log(0.211), abs(sqrt(log(div(div(inv(-0.896), log(max(X5, X6))), sqrt(inv(add(add(log(0.211), abs(log(0.211))), X6))))))))), add(max(0.396, X1), X0))))))))), sqrt(add(add(0.604, X0), add(log(0.211), abs(log(0.211))))))))))),\n",
       " max(sqrt(add(add(0.604, X0), max(sqrt(max(abs(sqrt(log(div(div(inv(-0.896), log(max(X5, X6))), sqrt(inv(add(0.916, X6))))))), X0)), X0))), sqrt(add(add(0.604, X0), max(sqrt(sqrt(inv(add(0.916, X6)))), add(add(0.604, X0), add(add(add(max(0.396, X1), X0), add(log(0.211), abs(sqrt(log(div(div(div(div(inv(-0.896), log(max(X5, X6))), sqrt(inv(abs(log(0.211))))), log(max(X5, X6))), sqrt(inv(add(0.916, X6))))))))), add(max(0.396, X1), X0))))))),\n",
       " max(sqrt(add(add(0.604, X0), sqrt(max(abs(sqrt(log(div(div(inv(-0.896), log(max(X5, X6))), sqrt(add(add(0.604, X0), add(add(add(max(0.396, X1), X0), add(log(0.211), abs(sqrt(log(div(div(inv(-0.896), log(max(X5, X6))), sqrt(inv(add(0.916, X6))))))))), sqrt(add(add(0.604, X0), add(log(0.211), abs(log(0.211)))))))))))), X0)))), sqrt(add(add(0.604, X0), max(sqrt(sqrt(inv(add(0.916, X6)))), add(add(add(max(0.396, X1), X0), add(log(0.211), abs(sqrt(log(div(div(add(add(0.604, X0), add(log(0.211), abs(div(inv(-0.896), log(sqrt(inv(add(0.916, X6)))))))), log(max(X5, X6))), sqrt(inv(add(0.916, X6))))))))), add(add(0.604, X0), add(0.604, X0))))))),\n",
       " max(sqrt(add(add(0.604, X0), sqrt(max(abs(sqrt(log(div(div(inv(-0.896), log(max(X5, X6))), sqrt(inv(add(0.916, X6))))))), X0)))), sqrt(add(add(0.604, X0), max(sqrt(sqrt(inv(add(0.916, X6)))), add(add(add(max(0.396, X1), X0), add(log(0.211), add(add(add(max(0.396, X1), X0), add(log(0.211), abs(max(0.396, X1)))), sqrt(add(add(0.604, X0), add(log(0.211), abs(log(0.211)))))))), add(add(0.604, X0), add(0.604, X0))))))),\n",
       " max(sqrt(add(add(0.604, X0), max(sqrt(max(abs(sqrt(log(div(div(inv(-0.896), log(max(X5, X6))), sqrt(inv(add(0.916, abs(add(0.916, X6))))))))), X0)), X0))), sqrt(add(add(0.604, X0), max(sqrt(sqrt(inv(add(0.916, X6)))), add(add(0.604, X0), add(add(add(max(0.396, X1), X0), add(log(0.211), abs(sqrt(log(div(div(inv(-0.896), log(max(X5, X6))), sqrt(inv(add(0.916, X6))))))))), sqrt(add(add(0.604, X0), add(log(0.211), max(sqrt(add(add(0.604, X0), max(abs(sqrt(log(div(div(inv(-0.896), log(max(X5, X6))), sqrt(inv(sqrt(add(add(0.604, X0), add(max(sqrt(sqrt(inv(add(0.916, X6)))), add(add(0.604, X0), add(add(add(max(0.396, X1), X0), add(log(0.211), abs(sqrt(log(div(div(inv(-0.896), log(max(X5, X6))), sqrt(inv(add(0.916, X6))))))))), sqrt(sqrt(add(add(0.604, X0), add(0.604, X0))))))), abs(inv(sqrt(-0.774)))))))))))), X0))), sqrt(add(add(0.604, X0), max(sqrt(sqrt(inv(add(0.916, X6)))), add(add(0.604, X0), add(inv(add(0.916, X6)), add(0.604, X0)))))))))))))))),\n",
       " max(sqrt(add(add(0.604, X0), max(sqrt(max(abs(sqrt(log(div(div(inv(-0.896), log(max(X5, X6))), sqrt(add(add(0.604, X0), max(sqrt(sqrt(inv(add(0.916, X6)))), add(add(0.604, X0), add(add(add(max(0.396, X1), X0), add(log(0.211), abs(sqrt(log(div(div(inv(-0.896), log(max(X5, X6))), add(add(0.604, X0), abs(inv(sqrt(sqrt(add(0.916, X6)))))))))))), sqrt(add(add(0.604, X0), add(log(0.211), abs(log(0.211)))))))))))))), X0)), X0))), sqrt(add(add(0.604, X0), max(sqrt(sqrt(inv(add(0.916, X6)))), add(add(0.604, X0), add(add(add(max(0.396, X1), X0), add(log(0.211), abs(sqrt(log(div(div(add(0.916, X6), log(max(X5, X6))), sqrt(inv(add(0.916, X6))))))))), sqrt(add(add(0.604, X0), add(log(0.211), abs(log(0.211))))))))))),\n",
       " max(sqrt(add(add(0.604, X0), max(max(abs(sqrt(log(log(max(X5, X6))))), X0), X0))), sqrt(add(add(0.604, X0), max(sqrt(sqrt(inv(add(0.916, X6)))), add(add(0.604, X0), add(add(add(max(0.396, X1), X0), add(log(0.211), abs(sqrt(log(div(div(inv(-0.896), log(max(X5, X6))), sqrt(inv(add(0.916, X6))))))))), add(add(max(0.396, X1), X0), add(log(0.211), abs(sqrt(log(div(div(sqrt(sqrt(inv(add(0.916, X6)))), log(max(X5, X6))), sqrt(inv(add(0.916, X6)))))))))))))))]</pre></div></div></div></div></div>"
      ],
      "text/plain": [
       "SymbolicTransformer(function_set=['add', 'sub', 'mul', 'div', 'sqrt', 'log',\n",
       "                                  'abs', 'neg', 'inv', 'max', 'min'],\n",
       "                    max_samples=0.9,\n",
       "                    metric=<gplearn.fitness._Fitness object at 0x000002917731A3D0>,\n",
       "                    n_jobs=3, parsimony_coefficient=0.0005,\n",
       "                    population_size=2000, random_state=0, verbose=1)"
      ]
     },
     "execution_count": 25,
     "metadata": {},
     "output_type": "execute_result"
    }
   ],
   "source": [
    "model.fit(X_train, y_train)"
   ]
  },
  {
   "cell_type": "code",
   "execution_count": 26,
   "metadata": {
    "ExecuteTime": {
     "end_time": "2021-06-21T23:42:20.516854Z",
     "start_time": "2021-06-21T23:42:20.464852Z"
    }
   },
   "outputs": [],
   "source": [
    "# Concatenate old and transformed matrix\n",
    "gp_features = model.transform(housing.data)\n",
    "new_housing = np.hstack((X, gp_features))"
   ]
  },
  {
   "cell_type": "code",
   "execution_count": 27,
   "metadata": {
    "ExecuteTime": {
     "end_time": "2021-06-21T23:44:38.227535Z",
     "start_time": "2021-06-21T23:44:38.152539Z"
    }
   },
   "outputs": [],
   "source": [
    "# Saves new matrix\n",
    "pd.DataFrame(new_housing).to_csv(\"GpTrans_CalHousing.csv\", index=False)"
   ]
  },
  {
   "cell_type": "code",
   "execution_count": null,
   "metadata": {},
   "outputs": [],
   "source": []
  }
 ],
 "metadata": {
  "kernelspec": {
   "display_name": "Python 3",
   "language": "python",
   "name": "python3"
  },
  "language_info": {
   "codemirror_mode": {
    "name": "ipython",
    "version": 3
   },
   "file_extension": ".py",
   "mimetype": "text/x-python",
   "name": "python",
   "nbconvert_exporter": "python",
   "pygments_lexer": "ipython3",
   "version": "3.9.13"
  },
  "toc": {
   "base_numbering": 1,
   "nav_menu": {},
   "number_sections": true,
   "sideBar": true,
   "skip_h1_title": false,
   "title_cell": "Table of Contents",
   "title_sidebar": "Contents",
   "toc_cell": false,
   "toc_position": {},
   "toc_section_display": true,
   "toc_window_display": false
  }
 },
 "nbformat": 4,
 "nbformat_minor": 4
}
