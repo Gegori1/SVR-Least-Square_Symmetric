{
 "cells": [
  {
   "cell_type": "code",
   "execution_count": 1,
   "metadata": {
    "ExecuteTime": {
     "end_time": "2021-09-27T13:20:44.905854Z",
     "start_time": "2021-09-27T13:20:42.973525Z"
    }
   },
   "outputs": [],
   "source": [
    "import pandas as pd\n",
    "import numpy as np\n",
    "from sklearn import metrics"
   ]
  },
  {
   "cell_type": "markdown",
   "metadata": {},
   "source": [
    "### Importing the Boston Housing dataset"
   ]
  },
  {
   "cell_type": "code",
   "execution_count": 2,
   "metadata": {
    "ExecuteTime": {
     "end_time": "2021-09-27T13:20:45.031861Z",
     "start_time": "2021-09-27T13:20:44.912857Z"
    }
   },
   "outputs": [],
   "source": [
    "from sklearn.datasets import load_boston\n",
    "boston = load_boston()"
   ]
  },
  {
   "cell_type": "code",
   "execution_count": 3,
   "metadata": {
    "ExecuteTime": {
     "end_time": "2021-09-27T13:20:45.047883Z",
     "start_time": "2021-09-27T13:20:45.034863Z"
    }
   },
   "outputs": [],
   "source": [
    "# Initializing the dataframe\n",
    "data = pd.DataFrame(boston.data)\n",
    "\n",
    "data.columns = boston.feature_names\n",
    "\n",
    "data['PRICE'] = boston.target "
   ]
  },
  {
   "cell_type": "code",
   "execution_count": 4,
   "metadata": {
    "ExecuteTime": {
     "end_time": "2021-09-27T13:20:45.154891Z",
     "start_time": "2021-09-27T13:20:45.131856Z"
    }
   },
   "outputs": [],
   "source": [
    "# Spliting target variable and independent variables\n",
    "X = data.drop(['PRICE'], axis = 1)\n",
    "y = data['PRICE']"
   ]
  },
  {
   "cell_type": "code",
   "execution_count": 5,
   "metadata": {
    "ExecuteTime": {
     "end_time": "2021-09-27T13:20:46.341045Z",
     "start_time": "2021-09-27T13:20:46.298008Z"
    }
   },
   "outputs": [],
   "source": [
    "# Splitting to training and testing data\n",
    "from sklearn.model_selection import train_test_split\n",
    "X_train, X_test, y_train, y_test = train_test_split(X,y, test_size = 0.3, random_state = 4)"
   ]
  },
  {
   "cell_type": "markdown",
   "metadata": {},
   "source": [
    "### Linear Regression"
   ]
  },
  {
   "cell_type": "code",
   "execution_count": 6,
   "metadata": {
    "ExecuteTime": {
     "end_time": "2021-09-27T13:20:47.634646Z",
     "start_time": "2021-09-27T13:20:47.552615Z"
    }
   },
   "outputs": [],
   "source": [
    "# Import library for Linear Regression\n",
    "from sklearn.linear_model import LinearRegression"
   ]
  },
  {
   "cell_type": "code",
   "execution_count": 7,
   "metadata": {
    "ExecuteTime": {
     "end_time": "2021-09-27T13:20:48.524358Z",
     "start_time": "2021-09-27T13:20:48.513325Z"
    }
   },
   "outputs": [],
   "source": [
    "# Create a Linear regressor\n",
    "lm = LinearRegression()\n",
    "\n",
    "# Train the model using the training sets \n",
    "lm.fit(X_train, y_train);"
   ]
  },
  {
   "cell_type": "code",
   "execution_count": 8,
   "metadata": {
    "ExecuteTime": {
     "end_time": "2021-09-27T13:20:49.871383Z",
     "start_time": "2021-09-27T13:20:49.851421Z"
    }
   },
   "outputs": [],
   "source": [
    "# Model prediction on train data\n",
    "y_pred = lm.predict(X_train)\n",
    "\n",
    "# Predicting Test data with the model\n",
    "y_test_pred = lm.predict(X_test)"
   ]
  },
  {
   "cell_type": "code",
   "execution_count": 9,
   "metadata": {
    "ExecuteTime": {
     "end_time": "2021-09-27T13:20:52.251190Z",
     "start_time": "2021-09-27T13:20:52.223152Z"
    }
   },
   "outputs": [
    {
     "name": "stdout",
     "output_type": "stream",
     "text": [
      "Linear Regression\n",
      "R^2: 0.7121818377409181\n",
      "Adjusted R^2: 0.6850685326005699\n",
      "MAE: 3.859005592370746\n",
      "MSE: 30.053993307124284\n",
      "RMSE: 5.482152251362988\n",
      "MAPE 17.8491255362835\n"
     ]
    }
   ],
   "source": [
    "# Model Evaluation\n",
    "acc_linreg = metrics.r2_score(y_test, y_test_pred)\n",
    "print('Linear Regression')\n",
    "print('R^2:', acc_linreg)\n",
    "print('Adjusted R^2:',1 - (1-metrics.r2_score(y_test, y_test_pred))*(len(y_test)-1)/(len(y_test)-X_test.shape[1]-1))\n",
    "print('MAE:',metrics.mean_absolute_error(y_test, y_test_pred))\n",
    "print('MSE:',metrics.mean_squared_error(y_test, y_test_pred))\n",
    "print('RMSE:',np.sqrt(metrics.mean_squared_error(y_test, y_test_pred)))\n",
    "print('MAPE',np.mean(np.abs(( y_test - y_test_pred)/y_test))*100)"
   ]
  },
  {
   "cell_type": "markdown",
   "metadata": {
    "ExecuteTime": {
     "end_time": "2021-06-23T04:00:49.350499Z",
     "start_time": "2021-06-23T04:00:49.331464Z"
    }
   },
   "source": [
    "### Random Forest"
   ]
  },
  {
   "cell_type": "code",
   "execution_count": 10,
   "metadata": {
    "ExecuteTime": {
     "end_time": "2021-09-27T13:20:53.937414Z",
     "start_time": "2021-09-27T13:20:53.764373Z"
    }
   },
   "outputs": [],
   "source": [
    "from sklearn.ensemble import RandomForestRegressor"
   ]
  },
  {
   "cell_type": "code",
   "execution_count": 11,
   "metadata": {
    "ExecuteTime": {
     "end_time": "2021-09-27T13:20:54.687802Z",
     "start_time": "2021-09-27T13:20:54.369797Z"
    }
   },
   "outputs": [],
   "source": [
    "# Create a Random Forest Regressor\n",
    "reg = RandomForestRegressor(random_state = 1, max_depth = 14, n_estimators = 66)\n",
    "\n",
    "# Train the model using the training sets \n",
    "reg.fit(X_train, y_train);"
   ]
  },
  {
   "cell_type": "code",
   "execution_count": 12,
   "metadata": {
    "ExecuteTime": {
     "end_time": "2021-09-27T13:20:54.750795Z",
     "start_time": "2021-09-27T13:20:54.706808Z"
    }
   },
   "outputs": [],
   "source": [
    "# Model prediction on train data\n",
    "y_pred = reg.predict(X_train)\n",
    "\n",
    "# Predicting Test data with the model\n",
    "y_test_pred = reg.predict(X_test)"
   ]
  },
  {
   "cell_type": "code",
   "execution_count": 13,
   "metadata": {
    "ExecuteTime": {
     "end_time": "2021-09-27T13:20:55.295544Z",
     "start_time": "2021-09-27T13:20:55.266508Z"
    }
   },
   "outputs": [
    {
     "name": "stdout",
     "output_type": "stream",
     "text": [
      "Sklearn Random Forest\n",
      "R^2: 0.8414638981312722\n",
      "Adjusted R^2: 0.8265293378103051\n",
      "MAE: 2.4284223290616884\n",
      "MSE: 16.554351216416233\n",
      "RMSE: 4.068703874259742\n",
      "MAPE 11.650360883728617\n"
     ]
    }
   ],
   "source": [
    "# Model Evaluation\n",
    "acc_rf = metrics.r2_score(y_test, y_test_pred)\n",
    "print('Sklearn Random Forest')\n",
    "print('R^2:', acc_rf)\n",
    "print('Adjusted R^2:',1 - (1-metrics.r2_score(y_test, y_test_pred))*(len(y_test)-1)/(len(y_test)-X_test.shape[1]-1))\n",
    "print('MAE:',metrics.mean_absolute_error(y_test, y_test_pred))\n",
    "print('MSE:',metrics.mean_squared_error(y_test, y_test_pred))\n",
    "print('RMSE:',np.sqrt(metrics.mean_squared_error(y_test, y_test_pred)))\n",
    "print('MAPE',np.mean(np.abs(( y_test - y_test_pred)/y_test))*100)"
   ]
  },
  {
   "cell_type": "markdown",
   "metadata": {},
   "source": [
    "### XGBoost Regressor"
   ]
  },
  {
   "cell_type": "code",
   "execution_count": 14,
   "metadata": {
    "ExecuteTime": {
     "end_time": "2021-09-27T13:20:56.309602Z",
     "start_time": "2021-09-27T13:20:56.146563Z"
    }
   },
   "outputs": [],
   "source": [
    "# Import XGBoost Regressor\n",
    "from xgboost import XGBRegressor"
   ]
  },
  {
   "cell_type": "code",
   "execution_count": 15,
   "metadata": {
    "ExecuteTime": {
     "end_time": "2021-09-27T13:20:56.806562Z",
     "start_time": "2021-09-27T13:20:56.552571Z"
    }
   },
   "outputs": [],
   "source": [
    "#Create a XGBoost Regressor\n",
    "reg = XGBRegressor(objective = \"reg:squarederror\", random_state = 1, eta = 0.159973, max_depth = 5, n_estimators = 64)\n",
    "\n",
    "# Train the model using the training sets \n",
    "reg.fit(X_train, y_train);"
   ]
  },
  {
   "cell_type": "code",
   "execution_count": 16,
   "metadata": {
    "ExecuteTime": {
     "end_time": "2021-09-27T13:20:57.007562Z",
     "start_time": "2021-09-27T13:20:56.970593Z"
    }
   },
   "outputs": [],
   "source": [
    "# Model prediction on train data\n",
    "y_pred = reg.predict(X_train)\n",
    "\n",
    "#Predicting Test data with the model\n",
    "y_test_pred = reg.predict(X_test)"
   ]
  },
  {
   "cell_type": "code",
   "execution_count": 17,
   "metadata": {
    "ExecuteTime": {
     "end_time": "2021-09-27T13:20:57.428568Z",
     "start_time": "2021-09-27T13:20:57.402600Z"
    }
   },
   "outputs": [
    {
     "name": "stdout",
     "output_type": "stream",
     "text": [
      "XGBoost Regressor\n",
      "R^2: 0.8765237193011672\n",
      "Adjusted R^2: 0.8648918957570743\n",
      "MAE: 2.263701290205905\n",
      "MSE: 12.893402155666852\n",
      "RMSE: 3.5907383858569886\n",
      "MAPE 10.867674733231699\n"
     ]
    }
   ],
   "source": [
    "# Model Evaluation\n",
    "acc_xgb = metrics.r2_score(y_test, y_test_pred)\n",
    "print('XGBoost Regressor')\n",
    "print('R^2:', acc_xgb)\n",
    "print('Adjusted R^2:',1 - (1-metrics.r2_score(y_test, y_test_pred))*(len(y_test)-1)/(len(y_test)-X_test.shape[1]-1))\n",
    "print('MAE:',metrics.mean_absolute_error(y_test, y_test_pred))\n",
    "print('MSE:',metrics.mean_squared_error(y_test, y_test_pred))\n",
    "print('RMSE:',np.sqrt(metrics.mean_squared_error(y_test, y_test_pred)))\n",
    "print('MAPE',np.mean(np.abs(( y_test - y_test_pred)/y_test))*100)"
   ]
  },
  {
   "cell_type": "markdown",
   "metadata": {},
   "source": [
    "### SVR"
   ]
  },
  {
   "cell_type": "code",
   "execution_count": 18,
   "metadata": {
    "ExecuteTime": {
     "end_time": "2021-09-27T13:20:58.270855Z",
     "start_time": "2021-09-27T13:20:58.252864Z"
    }
   },
   "outputs": [],
   "source": [
    "# Creating scaled set to be used in model to improve our results\n",
    "from sklearn.preprocessing import StandardScaler\n",
    "# Import SVM Regressor\n",
    "from sklearn import svm"
   ]
  },
  {
   "cell_type": "code",
   "execution_count": 19,
   "metadata": {
    "ExecuteTime": {
     "end_time": "2021-09-27T13:20:58.660907Z",
     "start_time": "2021-09-27T13:20:58.636908Z"
    }
   },
   "outputs": [],
   "source": [
    "sc = StandardScaler()\n",
    "X_train = sc.fit_transform(X_train)\n",
    "X_test = sc.transform(X_test)"
   ]
  },
  {
   "cell_type": "code",
   "execution_count": 20,
   "metadata": {
    "ExecuteTime": {
     "end_time": "2021-09-27T13:20:59.065753Z",
     "start_time": "2021-09-27T13:20:59.008806Z"
    }
   },
   "outputs": [],
   "source": [
    "# Create a SVM Regressor\n",
    "reg = svm.SVR(C = 74.888336, epsilon = 0.156926, gamma = 0.060984)\n",
    "# Train the model using the training sets \n",
    "reg.fit(X_train, y_train);"
   ]
  },
  {
   "cell_type": "code",
   "execution_count": 21,
   "metadata": {
    "ExecuteTime": {
     "end_time": "2021-09-27T13:20:59.597119Z",
     "start_time": "2021-09-27T13:20:59.539118Z"
    }
   },
   "outputs": [],
   "source": [
    "# Model prediction on train data\n",
    "y_pred = reg.predict(X_train)\n",
    "# Predicting Test data with the model\n",
    "y_test_pred = reg.predict(X_test)"
   ]
  },
  {
   "cell_type": "code",
   "execution_count": 22,
   "metadata": {
    "ExecuteTime": {
     "end_time": "2021-09-27T13:21:00.097493Z",
     "start_time": "2021-09-27T13:21:00.072495Z"
    }
   },
   "outputs": [
    {
     "name": "stdout",
     "output_type": "stream",
     "text": [
      "Sklearn SVR\n",
      "R^2: 0.8936365303322599\n",
      "Adjusted R^2: 0.8836167831896466\n",
      "MAE: 2.016761965128001\n",
      "MSE: 11.106481190854419\n",
      "RMSE: 3.332638772932707\n",
      "MAPE 10.073354025337828\n"
     ]
    }
   ],
   "source": [
    "# Model Evaluation\n",
    "acc_svm = metrics.r2_score(y_test, y_test_pred)\n",
    "print('Sklearn SVR')\n",
    "print('R^2:', acc_svm)\n",
    "print('Adjusted R^2:',1 - (1-metrics.r2_score(y_test, y_test_pred))*(len(y_test)-1)/(len(y_test)-X_test.shape[1]-1))\n",
    "print('MAE:',metrics.mean_absolute_error(y_test, y_test_pred))\n",
    "print('MSE:',metrics.mean_squared_error(y_test, y_test_pred))\n",
    "print('RMSE:',np.sqrt(metrics.mean_squared_error(y_test, y_test_pred)))\n",
    "print('MAPE',np.mean(np.abs(( y_test - y_test_pred)/y_test))*100)"
   ]
  },
  {
   "cell_type": "markdown",
   "metadata": {},
   "source": [
    "### SVR MAPE Extendido"
   ]
  },
  {
   "cell_type": "code",
   "execution_count": 24,
   "metadata": {
    "ExecuteTime": {
     "end_time": "2021-09-27T13:21:07.939493Z",
     "start_time": "2021-09-27T13:21:07.732408Z"
    }
   },
   "outputs": [],
   "source": [
    "# Creating scaled set to be used in model to improve our results\n",
    "from sklearn.preprocessing import StandardScaler\n",
    "# Import SVR extended\n",
    "%run ..//..//Library//SVRExtended_Library.ipynb"
   ]
  },
  {
   "cell_type": "code",
   "execution_count": 25,
   "metadata": {
    "ExecuteTime": {
     "end_time": "2021-09-27T13:21:08.125246Z",
     "start_time": "2021-09-27T13:21:08.104245Z"
    }
   },
   "outputs": [],
   "source": [
    "sc = StandardScaler()\n",
    "X_train = sc.fit_transform(X_train)\n",
    "X_test = sc.transform(X_test)"
   ]
  },
  {
   "cell_type": "code",
   "execution_count": 26,
   "metadata": {
    "ExecuteTime": {
     "end_time": "2021-09-27T13:21:09.367474Z",
     "start_time": "2021-09-27T13:21:08.570925Z"
    }
   },
   "outputs": [],
   "source": [
    "# Create a SVM Regressor\n",
    "model = SVRExtended_cvxpy(\n",
    "    kernel = \"rbf\", \n",
    "    C = 180.923857, \n",
    "    epsilon = 0.210641, \n",
    "    gamma = 0.069232, \n",
    "    lamda = 0.101813\n",
    ")\n",
    "# Train the model using the training sets \n",
    "model.fit(X_train,y_train);"
   ]
  },
  {
   "cell_type": "code",
   "execution_count": 27,
   "metadata": {
    "ExecuteTime": {
     "end_time": "2021-09-27T13:21:09.383468Z",
     "start_time": "2021-09-27T13:21:09.371432Z"
    }
   },
   "outputs": [],
   "source": [
    "# Model prediction on train data\n",
    "y_pred = model.predict(X_train)\n",
    "# Predicting Test data with the model\n",
    "y_test_pred = model.predict(X_test)"
   ]
  },
  {
   "cell_type": "code",
   "execution_count": 28,
   "metadata": {
    "ExecuteTime": {
     "end_time": "2021-09-27T13:21:09.399434Z",
     "start_time": "2021-09-27T13:21:09.386434Z"
    }
   },
   "outputs": [
    {
     "name": "stdout",
     "output_type": "stream",
     "text": [
      "SVR MAPE extendido\n",
      "R^2: 0.9141146715870909\n",
      "Adjusted R^2: 0.906024024707614\n",
      "MAE: 1.981258946562449\n",
      "MSE: 8.968152200826907\n",
      "RMSE: 2.994687329392988\n",
      "MAPE 10.570337654928242\n"
     ]
    }
   ],
   "source": [
    "# Model Evaluation\n",
    "acc_svm = metrics.r2_score(y_test, y_test_pred)\n",
    "print('SVR MAPE extendido')\n",
    "print('R^2:', acc_svm)\n",
    "print('Adjusted R^2:',1 - (1-metrics.r2_score(y_test, y_test_pred))*(len(y_test)-1)/(len(y_test)-X_test.shape[1]-1))\n",
    "print('MAE:',metrics.mean_absolute_error(y_test, y_test_pred))\n",
    "print('MSE:',metrics.mean_squared_error(y_test, y_test_pred))\n",
    "print('RMSE:',np.sqrt(metrics.mean_squared_error(y_test, y_test_pred)))\n",
    "print('MAPE',np.mean(np.abs(( y_test - y_test_pred)/y_test))*100)"
   ]
  },
  {
   "cell_type": "code",
   "execution_count": null,
   "metadata": {},
   "outputs": [],
   "source": []
  }
 ],
 "metadata": {
  "kernelspec": {
   "display_name": "Python 3 (ipykernel)",
   "language": "python",
   "name": "python3"
  },
  "language_info": {
   "codemirror_mode": {
    "name": "ipython",
    "version": 3
   },
   "file_extension": ".py",
   "mimetype": "text/x-python",
   "name": "python",
   "nbconvert_exporter": "python",
   "pygments_lexer": "ipython3",
   "version": "3.9.7"
  },
  "toc": {
   "base_numbering": 1,
   "nav_menu": {},
   "number_sections": true,
   "sideBar": true,
   "skip_h1_title": false,
   "title_cell": "Table of Contents",
   "title_sidebar": "Contents",
   "toc_cell": false,
   "toc_position": {},
   "toc_section_display": true,
   "toc_window_display": false
  }
 },
 "nbformat": 4,
 "nbformat_minor": 4
}
